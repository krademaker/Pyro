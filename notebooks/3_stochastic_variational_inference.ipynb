{
 "cells": [
  {
   "cell_type": "markdown",
   "id": "f83a9459",
   "metadata": {},
   "source": [
    "# [An Introduction to Stochastic Variational Inference in Pyro](https://pyro.ai/examples/svi_part_i.html)"
   ]
  },
  {
   "cell_type": "code",
   "execution_count": null,
   "id": "ee00bdd8",
   "metadata": {},
   "outputs": [],
   "source": []
  }
 ],
 "metadata": {
  "kernelspec": {
   "display_name": "PYRO",
   "language": "python",
   "name": "pyro"
  },
  "language_info": {
   "codemirror_mode": {
    "name": "ipython",
    "version": 3
   },
   "file_extension": ".py",
   "mimetype": "text/x-python",
   "name": "python",
   "nbconvert_exporter": "python",
   "pygments_lexer": "ipython3",
   "version": "3.10.8"
  }
 },
 "nbformat": 4,
 "nbformat_minor": 5
}
