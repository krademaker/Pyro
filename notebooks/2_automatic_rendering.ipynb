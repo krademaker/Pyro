{
 "cells": [
  {
   "cell_type": "markdown",
   "id": "ee49daa5",
   "metadata": {},
   "source": [
    "# [Automatic rendering of Pyro models](https://pyro.ai/examples/model_rendering.html)"
   ]
  },
  {
   "cell_type": "markdown",
   "id": "b25347d8",
   "metadata": {},
   "source": [
    "In this tutorial we will demonstrate how to create beautiful visualizations of your probabilistic graphical models using ```pyro.render_model()```."
   ]
  },
  {
   "cell_type": "code",
   "execution_count": null,
   "id": "0da0137d",
   "metadata": {},
   "outputs": [],
   "source": []
  }
 ],
 "metadata": {
  "kernelspec": {
   "display_name": "PYRO",
   "language": "python",
   "name": "pyro"
  },
  "language_info": {
   "codemirror_mode": {
    "name": "ipython",
    "version": 3
   },
   "file_extension": ".py",
   "mimetype": "text/x-python",
   "name": "python",
   "nbconvert_exporter": "python",
   "pygments_lexer": "ipython3",
   "version": "3.10.8"
  }
 },
 "nbformat": 4,
 "nbformat_minor": 5
}
